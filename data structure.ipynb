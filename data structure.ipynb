{
 "cells": [
  {
   "cell_type": "code",
   "execution_count": 7,
   "metadata": {},
   "outputs": [
    {
     "name": "stdout",
     "output_type": "stream",
     "text": [
      "3\n"
     ]
    }
   ],
   "source": [
    "# 最基础的遍历无序列表的查找算法\n",
    "# 时间复杂度O(n)\n",
    "\n",
    "def sequential_search(lis, key):\n",
    "    length = len(lis)\n",
    "    for i in range(length):\n",
    "        if lis[i] == key:\n",
    "            return i\n",
    "    return False\n",
    "        \n",
    "if __name__ == '__main__':\n",
    "    LIST = [1, 5, 8, 123, 22, 54, 7, 99, 300, 222]\n",
    "    result = sequential_search(LIST, 123)\n",
    "    print(result)"
   ]
  },
  {
   "cell_type": "code",
   "execution_count": 18,
   "metadata": {},
   "outputs": [
    {
     "name": "stdout",
     "output_type": "stream",
     "text": [
      "times: 4\n",
      "9\n"
     ]
    }
   ],
   "source": [
    "# 针对有序查找线表的二分查找算法\n",
    "# 时间复杂度O(log(n))\n",
    "\n",
    "def binary_search(lis, key):\n",
    "    low = 0\n",
    "    high = len(lis) - 1\n",
    "    time = 0\n",
    "    while low <= high:\n",
    "        time += 1\n",
    "        mid = int((low + high) / 2)\n",
    "        if key < lis[mid]:\n",
    "            high = mid -1\n",
    "        elif key > lis[mid]:\n",
    "            low = mid + 1\n",
    "        else:\n",
    "            # 打印折半的次数\n",
    "            print(\"times: %s\" % time)\n",
    "            return mid\n",
    "    print(\"times: %s\" % time)\n",
    "    return False\n",
    "\n",
    "if __name__ == '__main__':\n",
    "    LIST = [1, 5, 7, 8, 22, 54, 66, 99, 123, 200, 222, 444]\n",
    "    result = binary_search(LIST, 200)\n",
    "    print(result)"
   ]
  },
  {
   "cell_type": "code",
   "execution_count": 20,
   "metadata": {},
   "outputs": [
    {
     "name": "stdout",
     "output_type": "stream",
     "text": [
      "times: 4\n",
      "9\n"
     ]
    }
   ],
   "source": [
    "# 插值查找算法\n",
    "# 时间复杂度O(log(n))\n",
    "\n",
    "def binary_search(lis, key):\n",
    "    low = 0\n",
    "    high = len(lis) - 1\n",
    "    time = 0\n",
    "    while low <= high:\n",
    "        time += 1\n",
    "        # 计算mid值是插值算法的核心代码\n",
    "        mid = low + int((high - low) * (key - lis[low])/(lis[high] - lis[low]))\n",
    "        if key < lis[mid]:\n",
    "            high = mid -1\n",
    "        elif key > lis[mid]:\n",
    "            low = mid + 1\n",
    "        else:\n",
    "            # 打印折半的次数\n",
    "            print(\"times: %s\" % time)\n",
    "            return mid\n",
    "    print(\"times: %s\" % time)\n",
    "    return False\n",
    "\n",
    "if __name__ == '__main__':\n",
    "    LIST = [1, 5, 7, 8, 22, 54, 66, 99, 123, 200, 222, 444]\n",
    "    result = binary_search(LIST, 200)\n",
    "    print(result)"
   ]
  },
  {
   "cell_type": "code",
   "execution_count": null,
   "metadata": {},
   "outputs": [
    {
     "name": "stdout",
     "output_type": "stream",
     "text": [
      "6\n"
     ]
    }
   ],
   "source": [
    "# 斐波那契查找算法\n",
    "# 时间复杂度O(log(n))\n",
    " \n",
    "def fibonacci_search(lis, key):\n",
    "    # 需要一个现成的斐波那契列表。其最大元素的值必须超过查找表中元素个数的数值。\n",
    "    F = [1, 1, 2, 3, 5, 8, 13, 21, 34, 55, 89, 144,\n",
    "         233, 377, 610, 987, 1597, 2584, 4181, 6765,\n",
    "         10946, 17711, 28657, 46368]\n",
    "    low = 0\n",
    "    high = len(lis) - 1\n",
    "    \n",
    "    # 为了方便线表满足斐波那契特性，在表的最后添加几个相同的值\n",
    "    # 这个值是原查找表的最后那个元素的值\n",
    "    # 添加的个数由F[k]-1-high决定\n",
    "    k = 0\n",
    "    while high > F[k]-1:\n",
    "        k += 1\n",
    "    print(k)\n",
    "    i = high\n",
    "    while F[k]-1 > 1:\n",
    "        lis.append(lis[high])\n",
    "        i += 1\n",
    "    print(lis)\n",
    "    \n",
    "    # 算法主逻辑。 time用于展示循环的次数。\n",
    "    time = 0\n",
    "    while low <= high:\n",
    "        time += 1\n",
    "        # 为了防止F列表下标溢出，设置if和else\n",
    "        if k < 2:\n",
    "            mid = low\n",
    "        else:\n",
    "            mid = low + F[k-1]-1\n",
    "        \n",
    "        print(\"low=%s, mid=%s, high=%s\" % (low, mid, high))\n",
    "        if key < lis[mid]:\n",
    "            high = mid + 1\n",
    "            k -= 2\n",
    "        elif key > lis[mid]:\n",
    "            low = mid + 1\n",
    "            k -= 2\n",
    "        else:\n",
    "            if mid <= high:\n",
    "                # 打印查找的次数\n",
    "                print(\"times: %s\" % time)\n",
    "                return mid\n",
    "            else:\n",
    "                print(\"times: %s\" % time)\n",
    "                return high\n",
    "    print(\"times: %s\" % time)\n",
    "    return False\n",
    "    \n",
    "if __name__ == '__main__':\n",
    "    LIST = [1, 5, 7, 8, 22, 54, 99, 123, 200, 222, 444]\n",
    "    result = fibonacci_search(LIST, 444)\n",
    "    print(result)"
   ]
  }
 ],
 "metadata": {
  "kernelspec": {
   "display_name": "Python 2",
   "language": "python",
   "name": "python2"
  },
  "language_info": {
   "codemirror_mode": {
    "name": "ipython",
    "version": 2
   },
   "file_extension": ".py",
   "mimetype": "text/x-python",
   "name": "python",
   "nbconvert_exporter": "python",
   "pygments_lexer": "ipython2",
   "version": "2.7.14"
  }
 },
 "nbformat": 4,
 "nbformat_minor": 2
}
